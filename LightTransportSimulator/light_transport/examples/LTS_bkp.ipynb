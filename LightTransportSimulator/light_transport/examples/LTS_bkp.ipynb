{
 "cells": [
  {
   "cell_type": "markdown",
   "source": [
    "# Path Tracing Notebook\n",
    "The first 5 code cells are required only on Google Colab. Ignore them if you are running the notebook from your local machine."
   ],
   "metadata": {
    "collapsed": false,
    "pycharm": {
     "name": "#%% md\n"
    }
   }
  },
  {
   "cell_type": "code",
   "execution_count": null,
   "outputs": [],
   "source": [
    "# 1. Run only if you need to delete cached folder from Google Colab\n",
    "!rm -rf /content/light-transport"
   ],
   "metadata": {
    "collapsed": false,
    "pycharm": {
     "name": "#%%\n"
    }
   }
  },
  {
   "cell_type": "code",
   "execution_count": null,
   "metadata": {
    "colab": {
     "base_uri": "https://localhost:8080/"
    },
    "id": "Zd1bheK0_pzj",
    "outputId": "8ebc56a8-5922-4a5d-8dac-54f383b1a3f4"
   },
   "outputs": [],
   "source": [
    "# 2. Download the project files from Github\n",
    "!git clone https://github.com/dipanjan92/light-transport.git"
   ]
  },
  {
   "cell_type": "code",
   "execution_count": null,
   "metadata": {
    "id": "fs42SJE7_3P8"
   },
   "outputs": [],
   "source": [
    "# 3. Add the project directory to the system PATH\n",
    "import sys\n",
    "sys.path.insert(0,'/content/light-transport/LightTransportSimulator')"
   ]
  },
  {
   "cell_type": "code",
   "execution_count": null,
   "metadata": {
    "colab": {
     "base_uri": "https://localhost:8080/"
    },
    "id": "V4hbhbKS_5iF",
    "outputId": "974e9a30-eb31-4a9e-b22d-3866a66fbd26"
   },
   "outputs": [],
   "source": [
    "# 4. PyVista is used to generate 3D objects\n",
    "!pip install pyvista"
   ]
  },
  {
   "cell_type": "code",
   "execution_count": 1,
   "metadata": {
    "colab": {
     "base_uri": "https://localhost:8080/",
     "height": 36
    },
    "id": "XrbcqO1iAQwG",
    "outputId": "89709b29-3722-4166-f86d-9ca536197b2d"
   },
   "outputs": [
    {
     "ename": "FileNotFoundError",
     "evalue": "[WinError 3] The system cannot find the path specified: '/content/light-transport/'",
     "output_type": "error",
     "traceback": [
      "\u001B[1;31m---------------------------------------------------------------------------\u001B[0m",
      "\u001B[1;31mFileNotFoundError\u001B[0m                         Traceback (most recent call last)",
      "\u001B[1;32m~\\AppData\\Local\\Temp/ipykernel_19276/3343278211.py\u001B[0m in \u001B[0;36m<module>\u001B[1;34m\u001B[0m\n\u001B[0;32m      1\u001B[0m \u001B[1;32mimport\u001B[0m \u001B[0mos\u001B[0m\u001B[1;33m\u001B[0m\u001B[1;33m\u001B[0m\u001B[0m\n\u001B[1;32m----> 2\u001B[1;33m \u001B[0mos\u001B[0m\u001B[1;33m.\u001B[0m\u001B[0mchdir\u001B[0m\u001B[1;33m(\u001B[0m\u001B[1;34m'/content/light-transport/'\u001B[0m\u001B[1;33m)\u001B[0m\u001B[1;33m\u001B[0m\u001B[1;33m\u001B[0m\u001B[0m\n\u001B[0m\u001B[0;32m      3\u001B[0m \u001B[0mos\u001B[0m\u001B[1;33m.\u001B[0m\u001B[0mgetcwd\u001B[0m\u001B[1;33m(\u001B[0m\u001B[1;33m)\u001B[0m\u001B[1;33m\u001B[0m\u001B[1;33m\u001B[0m\u001B[0m\n",
      "\u001B[1;31mFileNotFoundError\u001B[0m: [WinError 3] The system cannot find the path specified: '/content/light-transport/'"
     ]
    }
   ],
   "source": [
    "# 5. Switch to project directory\n",
    "import os\n",
    "os.chdir('/content/light-transport/')\n",
    "os.getcwd()"
   ]
  },
  {
   "cell_type": "markdown",
   "source": [
    "********************************************************************************************"
   ],
   "metadata": {
    "collapsed": false,
    "pycharm": {
     "name": "#%% md\n"
    }
   }
  },
  {
   "cell_type": "code",
   "execution_count": 1,
   "metadata": {
    "pycharm": {
     "name": "#%%\n"
    }
   },
   "outputs": [],
   "source": [
    "import math\n",
    "import shutil\n",
    "import time\n",
    "from pathlib import Path\n",
    "import matplotlib.pyplot as plt\n",
    "import numpy as np\n",
    "import numba\n",
    "import pyvista as pv"
   ]
  },
  {
   "cell_type": "code",
   "execution_count": 2,
   "metadata": {
    "id": "9XPlkO_hAUEH"
   },
   "outputs": [],
   "source": [
    "from LightTransportSimulator.light_transport.src.scene import Scene, Light\n",
    "from LightTransportSimulator.light_transport.src.primitives import Triangle, PreComputedTriangle\n",
    "from LightTransportSimulator.light_transport.src.cornell_box import get_cornell_box, get_floor\n",
    "from LightTransportSimulator.light_transport.src.constants import *"
   ]
  },
  {
   "cell_type": "code",
   "execution_count": 3,
   "metadata": {
    "colab": {
     "base_uri": "https://localhost:8080/"
    },
    "id": "xcLdtmlCAeqM",
    "outputId": "405f03fe-4507-46b9-bcee-153db6234648"
   },
   "outputs": [
    {
     "data": {
      "text/plain": "10"
     },
     "execution_count": 3,
     "metadata": {},
     "output_type": "execute_result"
    }
   ],
   "source": [
    "# load a 3D object using PyVista\n",
    "mesh = pv.Cone(radius=2, center=[0,0,0], height=5)\n",
    "tri = mesh.triangulate()\n",
    "points = np.ascontiguousarray(tri.points)\n",
    "faces = tri.faces.reshape((-1,4))[:, 1:4]\n",
    "vertices = np.ascontiguousarray(points[faces], dtype=np.float64)\n",
    "len(vertices)"
   ]
  },
  {
   "cell_type": "code",
   "execution_count": 4,
   "metadata": {
    "colab": {
     "base_uri": "https://localhost:8080/"
    },
    "id": "NTHWVffcAjju",
    "outputId": "3f241786-62da-42de-ffcf-bf0d633022a4"
   },
   "outputs": [
    {
     "data": {
      "text/plain": "(2.5, 2.0, 1.7320508, 7.5)"
     },
     "execution_count": 4,
     "metadata": {},
     "output_type": "execute_result"
    }
   ],
   "source": [
    "#set scene depths\n",
    "\n",
    "xmax, ymax, zmax = points.max(axis=0)\n",
    "xmin, ymin, zmin = points.min(axis=0)\n",
    "\n",
    "# set padding to be added around the object\n",
    "padding = 5\n",
    "depth = abs(max(xmax, ymax, zmax)) + padding\n",
    "x_depth = abs(xmax) + 10\n",
    "y_depth = abs(ymax) + 1\n",
    "z_depth = abs(zmax) + 10\n",
    "xmax, ymax, zmax, depth"
   ]
  },
  {
   "cell_type": "code",
   "execution_count": 5,
   "metadata": {
    "id": "4uUQBifqAn3F"
   },
   "outputs": [],
   "source": [
    "# Initialise an empty list for primitives\n",
    "objects = numba.typed.List()"
   ]
  },
  {
   "cell_type": "code",
   "execution_count": 6,
   "metadata": {
    "id": "gSOIA4cvArNy"
   },
   "outputs": [],
   "source": [
    "from LightTransportSimulator.light_transport.src.cornell_box import get_floor\n",
    "\n",
    "# Set wall colors and materials for the Cornell box\n",
    "\n",
    "surface_color = WHITE_2\n",
    "left_wall_color = RED\n",
    "right_wall_color = GREEN\n",
    "surface_mat = Material(color=surface_color, shininess=30, reflection=0.1, ior=1.5210, transmission=1) # calcium sulphate\n",
    "left_wall_mat = Material(color=left_wall_color, shininess=30, reflection=0.1, ior=1.5210, transmission=1)\n",
    "right_wall_mat = Material(color=right_wall_color, shininess=30, reflection=0.1, ior=1.5210, transmission=1)\n",
    "\n",
    "# Get the triangles required to render the Cornell box\n",
    "objects = get_cornell_box(depth, surface_mat, left_wall_mat, right_wall_mat)\n",
    "# objects = get_floor(x_depth, y_depth, z_depth, surface_mat)"
   ]
  },
  {
   "cell_type": "code",
   "execution_count": 7,
   "metadata": {
    "colab": {
     "base_uri": "https://localhost:8080/"
    },
    "id": "46or32ELA_da",
    "outputId": "609c3be4-ce73-46d4-e132-6f6d2ae99a91"
   },
   "outputs": [
    {
     "data": {
      "text/plain": "ListType[instance.jitclass.PreComputedTriangle#2080feb6860<type:int64,vertex_1:array(float64, 1d, C),vertex_2:array(float64, 1d, C),vertex_3:array(float64, 1d, C),centroid:array(float64, 1d, C),material:instance.jitclass.Material#2081264f250<color:instance.jitclass.Color#20812609f30<ambient:array(float64, 1d, A),diffuse:array(float64, 1d, A),specular:array(float64, 1d, A)>,shininess:float64,reflection:float64,ior:float64,is_diffuse:bool,is_mirror:bool,emission:float64,transmission:float64>,is_light:bool,edge_1:array(float64, 1d, C),edge_2:array(float64, 1d, C),normal:array(float64, 1d, C),num:float64,transformation:array(float64, 2d, A)>]([<numba.experimental.jitclass.boxing.PreComputedTriangle object at 0x000002080E7DBDC0>, <numba.experimental.jitclass.boxing.PreComputedTriangle object at 0x000002080E7D8A60>, <numba.experimental.jitclass.boxing.PreComputedTriangle object at 0x000002080E7DBDC0>, <numba.experimental.jitclass.boxing.PreComputedTriangle object at 0x000002080E7D8A60>, <numba.experimental.jitclass.boxing.PreComputedTriangle object at 0x000002080E7DBDC0>, <numba.experimental.jitclass.boxing.PreComputedTriangle object at 0x000002080E7D8A60>, <numba.experimental.jitclass.boxing.PreComputedTriangle object at 0x000002080E7DBDC0>, <numba.experimental.jitclass.boxing.PreComputedTriangle object at 0x000002080E7D8A60>, <numba.experimental.jitclass.boxing.PreComputedTriangle object at 0x000002080E7DBDC0>, <numba.experimental.jitclass.boxing.PreComputedTriangle object at 0x000002080E7D8A60>, <numba.experimental.jitclass.boxing.PreComputedTriangle object at 0x000002080E7DBDC0>, <numba.experimental.jitclass.boxing.PreComputedTriangle object at 0x000002080E7D8A60>, <numba.experimental.jitclass.boxing.PreComputedTriangle object at 0x000002080E7DBDC0>, <numba.experimental.jitclass.boxing.PreComputedTriangle object at 0x000002080E7D8A60>, <numba.experimental.jitclass.boxing.PreComputedTriangle object at 0x000002080E7DBDC0>, <numba.experimental.jitclass.boxing.PreComputedTriangle object at 0x000002080E7D8A60>, <numba.experimental.jitclass.boxing.PreComputedTriangle object at 0x000002080E7DBDC0>, <numba.experimental.jitclass.boxing.PreComputedTriangle object at 0x000002080E7D8A60>, <numba.experimental.jitclass.boxing.PreComputedTriangle object at 0x000002080E7DBDC0>, <numba.experimental.jitclass.boxing.PreComputedTriangle object at 0x000002080E7D8A60>, <numba.experimental.jitclass.boxing.PreComputedTriangle object at 0x000002080E7DBDC0>, <numba.experimental.jitclass.boxing.PreComputedTriangle object at 0x000002080E7D8A60>, <numba.experimental.jitclass.boxing.PreComputedTriangle object at 0x000002080E7DBDC0>, <numba.experimental.jitclass.boxing.PreComputedTriangle object at 0x000002080E7D8A60>, <numba.experimental.jitclass.boxing.PreComputedTriangle object at 0x000002080E7DBDC0>, <numba.experimental.jitclass.boxing.PreComputedTriangle object at 0x000002080E7D8A60>, ...])"
     },
     "execution_count": 7,
     "metadata": {},
     "output_type": "execute_result"
    }
   ],
   "source": [
    "# Add the triangles in the list of objects\n",
    "for v in vertices:\n",
    "    a,b,c = np.append(v[0], 1),np.append(v[1], 1),np.append(v[2], 1)\n",
    "\n",
    "    triangle = PreComputedTriangle(vertex_1=np.ascontiguousarray(a, dtype=np.float64),\n",
    "                                   vertex_2=np.ascontiguousarray(b, dtype=np.float64),\n",
    "                                   vertex_3=np.ascontiguousarray(c, dtype=np.float64),\n",
    "                                   material=GLASS_MAT)\n",
    "    objects.append(triangle)\n",
    "\n",
    "objects"
   ]
  },
  {
   "cell_type": "code",
   "execution_count": 8,
   "metadata": {
    "colab": {
     "base_uri": "https://localhost:8080/"
    },
    "id": "ZcG2w1ziBCkk",
    "outputId": "e473872e-13e5-4da7-f5cb-62561ed9586a"
   },
   "outputs": [
    {
     "name": "stderr",
     "output_type": "stream",
     "text": [
      "C:\\Users\\dipanjan\\Work\\DS-Projects\\Light-Transport\\LightTransportSimulator\\light_transport\\src\\intersects.py:26: NumbaPerformanceWarning: \u001B[1m\u001B[1m\u001B[1mnp.dot() is faster on contiguous arrays, called on (array(float64, 1d, A), array(float64, 1d, C))\u001B[0m\u001B[0m\u001B[0m\n",
      "  b = 2 * np.dot(ray_direction, ray_origin - center)\n"
     ]
    }
   ],
   "source": [
    "from LightTransportSimulator.light_transport.src.light_samples import generate_area_light_samples\n",
    "\n",
    "# # Create a global light source\n",
    "\n",
    "source_mat = Material(color=WHITE, shininess=1, reflection=0.9, ior=1.5, emission=200)\n",
    "\n",
    "# As conventional Cornell box has square light source (Area light),\n",
    "# we will use two triangles to render the light source\n",
    "light_1 = PreComputedTriangle(vertex_1=np.array([-1, depth, -1, 1], dtype=np.float64),\n",
    "                              vertex_2=np.array([1, depth, 1, 1], dtype=np.float64),\n",
    "                              vertex_3=np.array([-1, depth, 1, 1], dtype=np.float64),\n",
    "                              material=source_mat,\n",
    "                              is_light=True)\n",
    "\n",
    "light_2 = PreComputedTriangle(vertex_1=np.array([-1, depth, -1, 1], dtype=np.float64),\n",
    "                              vertex_2=np.array([1, depth, -1, 1], dtype=np.float64),\n",
    "                              vertex_3=np.array([1, depth, 1, 1], dtype=np.float64),\n",
    "                              material=source_mat,\n",
    "                              is_light=True)\n",
    "\n",
    "# generate random samples on the light emitting surfaces\n",
    "light_sources = generate_area_light_samples(tri_1=light_1,\n",
    "                                          tri_2=light_2,\n",
    "                                          source_mat=source_mat,\n",
    "                                          number_of_samples=1000,\n",
    "                                          total_area=4)"
   ]
  },
  {
   "cell_type": "code",
   "execution_count": 9,
   "metadata": {
    "id": "3rfl_cUXBFiL"
   },
   "outputs": [],
   "source": [
    "objects.append(light_1)\n",
    "objects.append(light_2)"
   ]
  },
  {
   "cell_type": "code",
   "execution_count": 10,
   "metadata": {
    "id": "aclJFNhOBIaV"
   },
   "outputs": [],
   "source": [
    "# Setup scene\n",
    "\n",
    "# point camera\n",
    "camera = np.array([0, 0, depth+0.5, 1], dtype=np.float64)\n",
    "\n",
    "# screen\n",
    "width=300\n",
    "height=300\n",
    "\n",
    "# max_depth is the conventional term used in rendering to denote\n",
    "# the maximum number of times a ray can bounce within the scene\n",
    "max_depth=5\n",
    "# number of samples per pixel\n",
    "n_samples = 8\n",
    "\n",
    "# Initialise the scene with lights and camera\n",
    "scene = Scene(camera=camera, lights=light_sources, width=width, height=height, max_depth=max_depth, f_distance=depth, number_of_samples=n_samples)"
   ]
  },
  {
   "cell_type": "code",
   "execution_count": 11,
   "outputs": [
    {
     "data": {
      "text/plain": "(28, 28)"
     },
     "execution_count": 11,
     "metadata": {},
     "output_type": "execute_result"
    }
   ],
   "source": [
    "from LightTransportSimulator.light_transport.src.bvh_new import BoundedBox, BVHNode, build_bvh, LinearBVHNode, flatten_bvh, intersect_bvh\n",
    "\n",
    "# Enclose all the primitives in their individual axis-aligned bounding boxes (AABB)\n",
    "bounded_boxes = []\n",
    "for i in range(len(objects)):\n",
    "    bounded_boxes.append(BoundedBox(objects[i], i))\n",
    "\n",
    "len(objects), len(bounded_boxes)"
   ],
   "metadata": {
    "collapsed": false,
    "pycharm": {
     "name": "#%%\n"
    }
   }
  },
  {
   "cell_type": "code",
   "execution_count": 12,
   "outputs": [
    {
     "data": {
      "text/plain": "<numba.experimental.jitclass.boxing.BVHNode at 0x20817cd4a30>"
     },
     "execution_count": 12,
     "metadata": {},
     "output_type": "execute_result"
    }
   ],
   "source": [
    "# Initialise a bounding volume hierarchy tree\n",
    "start = 0\n",
    "end = len(bounded_boxes)\n",
    "ordered_prims = []\n",
    "total_nodes = 0\n",
    "root, bounded_boxes, ordered_prims, total_nodes = build_bvh(objects, bounded_boxes, start, end, ordered_prims, total_nodes)\n",
    "# swap the primitives array with the ordered list\n",
    "primitives = ordered_prims\n",
    "# root node of the bvh tree\n",
    "root"
   ],
   "metadata": {
    "collapsed": false,
    "pycharm": {
     "name": "#%%\n"
    }
   }
  },
  {
   "cell_type": "code",
   "execution_count": 13,
   "outputs": [
    {
     "data": {
      "text/plain": "43"
     },
     "execution_count": 13,
     "metadata": {},
     "output_type": "execute_result"
    }
   ],
   "source": [
    "# create a linear representation of the bvh tree\n",
    "linear_nodes = numba.typed.List()\n",
    "for _ in range(total_nodes):\n",
    "    linear_nodes.append(LinearBVHNode())\n",
    "# linear_nodes = [LinearBVHNode() for _ in range(total_nodes)]\n",
    "len(linear_nodes) # equals to the number of nodes in the original treei"
   ],
   "metadata": {
    "collapsed": false,
    "pycharm": {
     "name": "#%%\n"
    }
   }
  },
  {
   "cell_type": "code",
   "execution_count": 14,
   "outputs": [
    {
     "data": {
      "text/plain": "43"
     },
     "execution_count": 14,
     "metadata": {},
     "output_type": "execute_result"
    }
   ],
   "source": [
    "# linear bvh\n",
    "linear_bvh, off_set = flatten_bvh(linear_nodes, root, 0)\n",
    "len(linear_bvh)"
   ],
   "metadata": {
    "collapsed": false,
    "pycharm": {
     "name": "#%%\n"
    }
   }
  },
  {
   "cell_type": "code",
   "execution_count": 15,
   "outputs": [
    {
     "data": {
      "text/plain": "28"
     },
     "execution_count": 15,
     "metadata": {},
     "output_type": "execute_result"
    }
   ],
   "source": [
    "# check if indexes of all primitives present in the linear bvh tree\n",
    "total = 0\n",
    "for _bvh in linear_bvh:\n",
    "    total+= _bvh.n_primitives\n",
    "total # should be equal to the number of primitives"
   ],
   "metadata": {
    "collapsed": false,
    "pycharm": {
     "name": "#%%\n"
    }
   }
  },
  {
   "cell_type": "code",
   "execution_count": 16,
   "metadata": {
    "colab": {
     "base_uri": "https://localhost:8080/"
    },
    "id": "SEP1yRDnBKxO",
    "outputId": "ceb226b2-27b9-47cc-fb4d-8904e8369413"
   },
   "outputs": [],
   "source": [
    "# from LightTransportSimulator.light_transport.src.primitives import AABB\n",
    "#\n",
    "# # Enclose all the primitives in a single axis-aligned bounding boxes (AABB)\n",
    "#\n",
    "# min_point=np.array([-depth, -depth, depth], dtype=np.float64)\n",
    "# max_point=np.array([depth, depth, -depth], dtype=np.float64)\n",
    "# box = AABB(min_point=min_point, max_point=max_point)\n",
    "# box"
   ]
  },
  {
   "cell_type": "code",
   "execution_count": 17,
   "metadata": {
    "id": "r0ySprIdBQA_"
   },
   "outputs": [],
   "source": [
    "# from LightTransportSimulator.light_transport.src.bvh import BVH\n",
    "# # Initialise a bounding volume hierarchy tree\n",
    "# bvh = BVH()\n",
    "# # Add the primitives into the tree\n",
    "# bvh.insert(objects, box)"
   ]
  },
  {
   "cell_type": "code",
   "execution_count": 18,
   "metadata": {
    "colab": {
     "base_uri": "https://localhost:8080/"
    },
    "id": "_ujNgTqwBS6_",
    "outputId": "1c85b1d0-fc1d-4ca8-95a7-b143190fee6f",
    "scrolled": true
   },
   "outputs": [
    {
     "name": "stderr",
     "output_type": "stream",
     "text": [
      "C:\\Users\\dipanjan\\Work\\DS-Projects\\Light-Transport\\LightTransportSimulator\\light_transport\\src\\path_tracing.py:159: NumbaPendingDeprecationWarning: \u001B[1m\u001B[1m\n",
      "Encountered the use of a type that is scheduled for deprecation: type 'reflected list' found for argument 'primitives' of function 'trace_path'.\n",
      "\n",
      "For more information visit https://numba.readthedocs.io/en/stable/reference/deprecation.html#deprecation-of-reflection-for-list-and-set-types\n",
      "\u001B[1m\n",
      "File \"..\\src\\path_tracing.py\", line 18:\u001B[0m\n",
      "\u001B[1m@numba.njit\n",
      "\u001B[1mdef trace_path(scene, primitives, bvh, ray, bounce, rand):\n",
      "\u001B[0m\u001B[1m^\u001B[0m\u001B[0m\n",
      "\u001B[0m\u001B[0m\n",
      "  color += trace_path(scene, primitives, bvh, ray, 0, rand)\n",
      "C:\\Users\\dipanjan\\Work\\DS-Projects\\Light-Transport\\LightTransportSimulator\\light_transport\\src\\path_tracing.py:159: NumbaPendingDeprecationWarning: \u001B[1m\u001B[1m\u001B[1m\n",
      "Encountered the use of a type that is scheduled for deprecation: type 'reflected list' found for argument 'primitives' of function 'cast_one_shadow_ray'.\n",
      "\n",
      "For more information visit https://numba.readthedocs.io/en/stable/reference/deprecation.html#deprecation-of-reflection-for-list-and-set-types\n",
      "\u001B[1m\n",
      "File \"..\\src\\light_samples.py\", line 36:\u001B[0m\n",
      "\u001B[1m@numba.njit\n",
      "\u001B[1mdef cast_one_shadow_ray(scene, primitives, bvh, intersected_object, intersection_point, intersection_normal):\n",
      "\u001B[0m\u001B[1m^\u001B[0m\u001B[0m\n",
      "\u001B[0m\u001B[0m\u001B[0m\n",
      "  color += trace_path(scene, primitives, bvh, ray, 0, rand)\n",
      "C:\\Users\\dipanjan\\Work\\DS-Projects\\Light-Transport\\LightTransportSimulator\\light_transport\\src\\path_tracing.py:159: NumbaPendingDeprecationWarning: \u001B[1m\u001B[1m\u001B[1m\n",
      "Encountered the use of a type that is scheduled for deprecation: type 'reflected list' found for argument 'primitives' of function 'hit_object'.\n",
      "\n",
      "For more information visit https://numba.readthedocs.io/en/stable/reference/deprecation.html#deprecation-of-reflection-for-list-and-set-types\n",
      "\u001B[1m\n",
      "File \"..\\src\\utils.py\", line 53:\u001B[0m\n",
      "\u001B[1m@numba.njit\n",
      "\u001B[1mdef hit_object(primitives, bvh, ray_origin, ray_direction):\n",
      "\u001B[0m\u001B[1m^\u001B[0m\u001B[0m\n",
      "\u001B[0m\u001B[0m\u001B[0m\n",
      "  color += trace_path(scene, primitives, bvh, ray, 0, rand)\n",
      "C:\\Users\\dipanjan\\Work\\DS-Projects\\Light-Transport\\LightTransportSimulator\\light_transport\\src\\path_tracing.py:159: NumbaPendingDeprecationWarning: \u001B[1m\u001B[1m\u001B[1m\n",
      "Encountered the use of a type that is scheduled for deprecation: type 'reflected list' found for argument 'primitives' of function 'trace_path'.\n",
      "\n",
      "For more information visit https://numba.readthedocs.io/en/stable/reference/deprecation.html#deprecation-of-reflection-for-list-and-set-types\n",
      "\u001B[1m\n",
      "File \"..\\src\\path_tracing.py\", line 18:\u001B[0m\n",
      "\u001B[1m@numba.njit\n",
      "\u001B[1mdef trace_path(scene, primitives, bvh, ray, bounce, rand):\n",
      "\u001B[0m\u001B[1m^\u001B[0m\u001B[0m\n",
      "\u001B[0m\u001B[0m\u001B[0m\n",
      "  color += trace_path(scene, primitives, bvh, ray, 0, rand)\n",
      "C:\\Users\\dipanjan\\Work\\DS-Projects\\Light-Transport\\LightTransportSimulator\\light_transport\\src\\path_tracing.py:159: NumbaPendingDeprecationWarning: \u001B[1m\u001B[1m\u001B[1m\u001B[1m\n",
      "Encountered the use of a type that is scheduled for deprecation: type 'reflected list' found for argument 'primitives' of function 'intersect_bvh'.\n",
      "\n",
      "For more information visit https://numba.readthedocs.io/en/stable/reference/deprecation.html#deprecation-of-reflection-for-list-and-set-types\n",
      "\u001B[1m\n",
      "File \"..\\src\\bvh_new.py\", line 363:\u001B[0m\n",
      "\u001B[1m@numba.njit\n",
      "\u001B[1mdef intersect_bvh(ray_origin, ray_direction, primitives, linear_bvh):\n",
      "\u001B[0m\u001B[1m^\u001B[0m\u001B[0m\n",
      "\u001B[0m\u001B[0m\u001B[0m\u001B[0m\n",
      "  color += trace_path(scene, primitives, bvh, ray, 0, rand)\n",
      "C:\\Users\\dipanjan\\Work\\DS-Projects\\Light-Transport\\LightTransportSimulator\\light_transport\\src\\path_tracing.py:159: NumbaPerformanceWarning: \u001B[1m\u001B[1m\u001B[1m\u001B[1mnp.dot() is faster on contiguous arrays, called on (array(float64, 1d, A), array(float64, 1d, A))\u001B[0m\u001B[0m\u001B[0m\u001B[0m\n",
      "  color += trace_path(scene, primitives, bvh, ray, 0, rand)\n",
      "C:\\Users\\dipanjan\\Work\\DS-Projects\\Light-Transport\\LightTransportSimulator\\light_transport\\src\\path_tracing.py:159: NumbaPerformanceWarning: \u001B[1m\u001B[1m\u001B[1m\u001B[1mnp.dot() is faster on contiguous arrays, called on (array(float64, 1d, C), array(float64, 1d, A))\u001B[0m\u001B[0m\u001B[0m\u001B[0m\n",
      "  color += trace_path(scene, primitives, bvh, ray, 0, rand)\n",
      "C:\\Users\\dipanjan\\Anaconda3\\envs\\dsenv\\lib\\site-packages\\numba\\core\\ir_utils.py:2152: NumbaPendingDeprecationWarning: \u001B[1m\n",
      "Encountered the use of a type that is scheduled for deprecation: type 'reflected list' found for argument 'primitives' of function 'render_scene'.\n",
      "\n",
      "For more information visit https://numba.readthedocs.io/en/stable/reference/deprecation.html#deprecation-of-reflection-for-list-and-set-types\n",
      "\u001B[1m\n",
      "File \"..\\src\\path_tracing.py\", line 138:\u001B[0m\n",
      "\u001B[1m@numba.njit(parallel=True)\n",
      "\u001B[1mdef render_scene(scene, primitives, bvh):\n",
      "\u001B[0m\u001B[1m^\u001B[0m\u001B[0m\n",
      "\u001B[0m\n",
      "  warnings.warn(NumbaPendingDeprecationWarning(msg, loc=loc))\n",
      "C:\\Users\\dipanjan\\Anaconda3\\envs\\dsenv\\lib\\site-packages\\numba\\core\\ir_utils.py:2152: NumbaPendingDeprecationWarning: \u001B[1m\n",
      "Encountered the use of a type that is scheduled for deprecation: type 'reflected list' found for argument 'primitives' of function '__numba_parfor_gufunc_0x20814efe920'.\n",
      "\n",
      "For more information visit https://numba.readthedocs.io/en/stable/reference/deprecation.html#deprecation-of-reflection-for-list-and-set-types\n",
      "\u001B[1m\n",
      "File \"<string>\", line 1:\u001B[0m\n",
      "\u001B[1m<source missing, REPL/exec in use?>\u001B[0m\n",
      "\u001B[0m\n",
      "  warnings.warn(NumbaPendingDeprecationWarning(msg, loc=loc))\n"
     ]
    },
    {
     "name": "stdout",
     "output_type": "stream",
     "text": [
      "0.333333333333333370.33333333333333337\n",
      "\n",
      "0.333333333333333370.33333333333333337\n",
      "\n",
      "0.33333333333333337\n",
      "0.33333333333333337\n",
      "0.33333333333333337\n",
      "0.33333333333333337\n",
      "0.6666666666666667\n",
      "0.6666666666666667\n",
      "0.6666666666666667\n",
      "0.6666666666666667\n",
      "0.6666666666666667\n",
      "0.6666666666666667\n",
      "0.6666666666666667\n",
      "0.6666666666666667\n",
      "1.0\n",
      "1.0\n",
      "1.0\n",
      "1.0\n",
      "1.0\n",
      "1.0\n",
      "1.0\n",
      "1.0\n",
      "1.3333333333333335\n",
      "1.3333333333333335\n",
      "1.3333333333333335\n",
      "1.3333333333333335\n",
      "1.3333333333333335\n",
      "1.3333333333333335\n",
      "1.3333333333333335\n",
      "1.3333333333333335\n",
      "1.6666666666666667\n",
      "1.6666666666666667\n",
      "1.6666666666666667\n",
      "1.6666666666666667\n",
      "1.6666666666666667\n",
      "1.6666666666666667\n",
      "1.6666666666666667\n",
      "2.02.0\n",
      "\n",
      "1.6666666666666667\n",
      "2.0\n",
      "2.0\n",
      "2.0\n",
      "2.0\n",
      "2.3333333333333335\n",
      "2.0\n",
      "2.3333333333333335\n",
      "2.3333333333333335\n",
      "2.3333333333333335\n",
      "2.3333333333333335\n",
      "2.0\n",
      "2.666666666666667\n",
      "2.3333333333333335\n",
      "2.666666666666667\n",
      "2.3333333333333335\n",
      "2.666666666666667\n",
      "2.666666666666667\n",
      "2.666666666666667\n",
      "2.3333333333333335\n",
      "3.0\n",
      "3.0\n",
      "2.666666666666667\n",
      "3.0\n",
      "2.666666666666667\n",
      "3.0\n",
      "3.0\n",
      "2.666666666666667\n",
      "3.3333333333333335\n",
      "3.3333333333333335\n",
      "3.3333333333333335\n",
      "3.3333333333333335\n",
      "3.0\n",
      "3.0\n",
      "3.3333333333333335\n",
      "3.6666666666666665\n",
      "3.0\n",
      "3.6666666666666665\n",
      "3.6666666666666665\n",
      "3.6666666666666665\n",
      "3.3333333333333335\n",
      "3.6666666666666665\n",
      "3.3333333333333335\n",
      "4.0\n",
      "4.0\n",
      "3.33333333333333354.0\n",
      "\n",
      "4.0\n",
      "4.0\n",
      "3.6666666666666665\n",
      "3.6666666666666665\n",
      "4.333333333333334\n",
      "4.333333333333334\n",
      "4.333333333333334\n",
      "3.6666666666666665\n",
      "4.333333333333334\n",
      "4.333333333333334\n",
      "4.666666666666667\n",
      "4.0\n",
      "4.0\n",
      "4.666666666666667\n",
      "4.666666666666667\n",
      "4.666666666666667\n",
      "4.0\n",
      "4.666666666666667\n",
      "5.0\n",
      "5.0\n",
      "4.333333333333334\n",
      "4.333333333333334\n",
      "5.0\n",
      "5.0\n",
      "5.0\n",
      "5.333333333333334\n",
      "4.333333333333334\n",
      "5.333333333333334\n",
      "4.666666666666667\n",
      "4.666666666666667\n",
      "5.333333333333334\n",
      "5.333333333333334\n",
      "5.333333333333334\n",
      "5.666666666666666\n",
      "4.666666666666667\n",
      "5.666666666666666\n",
      "5.666666666666666\n",
      "5.0\n",
      "6.0\n",
      "5.0\n",
      "5.666666666666666\n",
      "5.666666666666666\n",
      "6.0\n",
      "5.0\n",
      "6.333333333333334\n",
      "6.0\n",
      "6.0\n",
      "5.333333333333334\n",
      "5.333333333333334\n",
      "6.0\n",
      "6.333333333333334\n",
      "6.666666666666667\n",
      "5.333333333333334\n",
      "6.333333333333334\n",
      "6.333333333333334\n",
      "5.666666666666666\n",
      "5.666666666666666\n",
      "6.333333333333334\n",
      "6.666666666666667\n",
      "7.000000000000001\n",
      "5.666666666666666\n",
      "6.666666666666667\n",
      "6.666666666666667\n",
      "6.0\n",
      "6.0\n",
      "6.666666666666667\n",
      "7.000000000000001\n",
      "7.333333333333333\n",
      "7.000000000000001\n",
      "6.0\n",
      "7.000000000000001\n",
      "7.000000000000001\n",
      "6.333333333333334\n",
      "7.333333333333333\n",
      "6.333333333333334\n",
      "7.333333333333333\n",
      "6.333333333333334\n",
      "7.666666666666666\n",
      "7.333333333333333\n",
      "7.333333333333333\n",
      "7.666666666666666\n",
      "6.666666666666667\n",
      "6.666666666666667\n",
      "7.666666666666666\n",
      "6.666666666666667\n",
      "7.666666666666666\n",
      "8.0\n",
      "7.666666666666666\n",
      "8.0\n",
      "7.000000000000001\n",
      "7.000000000000001\n",
      "8.0\n",
      "7.000000000000001\n",
      "8.0\n",
      "8.0\n",
      "8.333333333333332\n",
      "8.333333333333332\n",
      "7.333333333333333\n",
      "8.333333333333332\n",
      "8.333333333333332\n",
      "7.333333333333333\n",
      "7.333333333333333\n",
      "8.333333333333332\n",
      "8.666666666666668\n",
      "8.666666666666668\n",
      "8.666666666666668\n",
      "7.666666666666666\n",
      "8.666666666666668\n",
      "9.0\n",
      "7.666666666666666\n",
      "8.666666666666668\n",
      "7.666666666666666\n",
      "9.0\n",
      "9.0\n",
      "9.333333333333334\n",
      "8.0\n",
      "9.0\n",
      "8.0\n",
      "9.0\n",
      "8.0\n",
      "9.333333333333334\n",
      "9.333333333333334\n",
      "9.333333333333334\n",
      "9.666666666666666\n",
      "8.333333333333332\n",
      "8.333333333333332\n",
      "9.333333333333334\n",
      "9.666666666666666\n",
      "8.333333333333332\n",
      "9.666666666666666\n",
      "9.666666666666666\n",
      "8.6666666666666688.666666666666668\n",
      "\n",
      "10.0\n",
      "10.0\n",
      "9.666666666666666\n",
      "8.666666666666668\n",
      "10.0\n",
      "10.0\n",
      "10.33333333333333410.0\n",
      "\n",
      "9.0\n",
      "9.0\n",
      "10.333333333333334\n",
      "10.333333333333334\n",
      "9.0\n",
      "10.333333333333334\n",
      "10.333333333333334\n",
      "10.666666666666668\n",
      "9.333333333333334\n",
      "9.333333333333334\n",
      "10.666666666666668\n",
      "10.666666666666668\n",
      "10.666666666666668\n",
      "9.333333333333334\n",
      "10.666666666666668\n",
      "11.0\n",
      "11.0\n",
      "9.666666666666666\n",
      "9.666666666666666\n",
      "11.0\n",
      "11.0\n",
      "11.0\n",
      "9.666666666666666\n",
      "11.333333333333332\n",
      "11.333333333333332\n",
      "10.0\n",
      "10.0\n",
      "11.333333333333332\n",
      "11.333333333333332\n",
      "11.333333333333332\n",
      "11.666666666666666\n",
      "10.0\n",
      "11.666666666666666\n",
      "11.666666666666666\n",
      "10.333333333333334\n",
      "10.333333333333334\n",
      "11.666666666666666\n",
      "12.0\n",
      "11.666666666666666\n",
      "10.333333333333334\n",
      "12.0\n",
      "12.0\n",
      "10.666666666666668\n",
      "10.666666666666668\n",
      "12.0\n",
      "12.0\n",
      "12.333333333333334\n",
      "12.333333333333334\n",
      "12.333333333333334\n",
      "10.666666666666668\n",
      "11.0\n",
      "12.333333333333334\n",
      "11.0\n",
      "12.333333333333334\n",
      "12.666666666666668\n",
      "11.0\n",
      "12.666666666666668\n",
      "11.333333333333332\n",
      "11.333333333333332\n",
      "12.666666666666668\n",
      "11.333333333333332\n",
      "11.666666666666666\n",
      "11.666666666666666\n",
      "12.0\n",
      "11.666666666666666\n",
      "12.0\n",
      "12.333333333333334\n",
      "12.0\n",
      "12.333333333333334\n",
      "12.666666666666668\n",
      "12.333333333333334\n",
      "Elapsed (with compilation) = 115.09007525444031\n"
     ]
    }
   ],
   "source": [
    "from LightTransportSimulator.light_transport.src.path_tracing import render_scene\n",
    "# from LightTransportSimulator.light_transport.src.render_old import render_scene\n",
    "\n",
    "start = time.time()\n",
    "image = render_scene(scene, primitives, linear_bvh)\n",
    "end = time.time()\n",
    "print(\"Elapsed (with compilation) = %s\" % (end - start))"
   ]
  },
  {
   "cell_type": "code",
   "execution_count": 19,
   "metadata": {
    "colab": {
     "base_uri": "https://localhost:8080/",
     "height": 286
    },
    "id": "YvqrADlYBVS0",
    "outputId": "b98c1cbd-ca5b-46a2-90f7-7b14275bc183"
   },
   "outputs": [
    {
     "data": {
      "text/plain": "<matplotlib.image.AxesImage at 0x2081ad70f10>"
     },
     "execution_count": 19,
     "metadata": {},
     "output_type": "execute_result"
    },
    {
     "data": {
      "text/plain": "<Figure size 432x288 with 1 Axes>",
      "image/png": "[encoded data removed]"
     },
     "metadata": {
      "needs_background": "light"
     },
     "output_type": "display_data"
    }
   ],
   "source": [
    "plt.imshow(image)"
   ]
  },
  {
   "cell_type": "code",
   "execution_count": null,
   "outputs": [],
   "source": [],
   "metadata": {
    "collapsed": false,
    "pycharm": {
     "name": "#%%\n"
    }
   }
  }
 ],
 "metadata": {
  "accelerator": "GPU",
  "colab": {
   "provenance": []
  },
  "kernelspec": {
   "display_name": "Python 3 (ipykernel)",
   "language": "python",
   "name": "python3"
  },
  "language_info": {
   "codemirror_mode": {
    "name": "ipython",
    "version": 3
   },
   "file_extension": ".py",
   "mimetype": "text/x-python",
   "name": "python",
   "nbconvert_exporter": "python",
   "pygments_lexer": "ipython3",
   "version": "3.10.0"
  }
 },
 "nbformat": 4,
 "nbformat_minor": 1
}
